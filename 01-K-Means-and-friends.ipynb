{
 "cells": [
  {
   "cell_type": "markdown",
   "id": "1ba1244a-f70a-482f-9f7c-04e187a28d35",
   "metadata": {
    "editable": true,
    "slideshow": {
     "slide_type": ""
    },
    "tags": []
   },
   "source": [
    "# <font color='red'>**KANDINSKY**</font>: Clustering and Quantization   \n",
    "  \n",
    "## **K-Means (and friends)**  \n",
    "\n",
    "*Shaurya Agarwal*"
   ]
  },
  {
   "cell_type": "markdown",
   "id": "3a9c6f1b-7e6a-4162-b5b8-2d98a27e6a3a",
   "metadata": {},
   "source": [
    "![K-Means and Friends](./images/07-kmeans-and-friends-abstract-cluster.png)"
   ]
  },
  {
   "cell_type": "markdown",
   "id": "672a4b33-4f2e-4795-929a-bb0f574a5cd2",
   "metadata": {
    "editable": true,
    "slideshow": {
     "slide_type": ""
    },
    "tags": []
   },
   "source": [
    "### <font color='green'>__Support for Google Colab__  </font>  \n",
    "    \n",
    "open this notebook in Colab using the following button:  \n",
    "  \n",
    "<a href=\"https://colab.research.google.com/github/shauryashaurya/learn-data-munging/blob/main/01-Numpy/01.01-Getting-Started-With-Numpy.ipynb\" target=\"_parent\"><img src=\"https://colab.research.google.com/assets/colab-badge.svg\" alt=\"Open In Colab\"/></a>  \n",
    "\n",
    "  \n",
    "<font color='green'>uncomment and execute the cell below to setup and run this notebook on Google Colab.</font>"
   ]
  },
  {
   "cell_type": "code",
   "execution_count": null,
   "id": "4d4e11d5-4cc7-4bde-b032-9b4c5c8cd52f",
   "metadata": {
    "editable": true,
    "slideshow": {
     "slide_type": ""
    },
    "tags": []
   },
   "outputs": [],
   "source": [
    "# # SETUP FOR COLAB: select all the lines below and uncomment (CTRL+/ on windows)\n",
    "# # Let's download and unzip the Small MovieLens Dataset\n",
    "# ! mkdir ./../data\n",
    "# ! wget -q https://files.grouplens.org/datasets/movielens/ml-latest-small.zip\n",
    "# ! unzip ./ml-latest-small.zip -d ./../data/"
   ]
  },
  {
   "cell_type": "code",
   "execution_count": null,
   "id": "91289af4-b604-4a46-b17a-30832f2954d7",
   "metadata": {},
   "outputs": [],
   "source": [
    "datalocation = \"./../data/ml-latest-small/\""
   ]
  },
  {
   "cell_type": "markdown",
   "id": "cbc0e549-3e85-4202-80a8-3162ff445048",
   "metadata": {},
   "source": [
    "## Setup, imports etc."
   ]
  },
  {
   "cell_type": "code",
   "execution_count": null,
   "id": "f5f16011-7d45-4be1-ae93-efbfe2fb8acf",
   "metadata": {},
   "outputs": [],
   "source": [
    "import concurrent.futures\n",
    "import csv\n",
    "import os\n",
    "import cv2\n",
    "import matplotlib\n",
    "import matplotlib.pyplot as plt\n",
    "import numpy as np\n",
    "import pandas as pd\n",
    "from mpl_toolkits.mplot3d import Axes3D\n",
    "from skimage import color\n",
    "# \n",
    "import jax.numpy as jnp\n",
    "from jax import random, jit"
   ]
  },
  {
   "cell_type": "markdown",
   "id": "012ce581-5a1d-4734-b73a-f6ab70b34284",
   "metadata": {},
   "source": [
    "To render Matplotlib plots directly in a JupyterLab notebook, you can use the ```%matplotlib inline``` magic command. This command configures Matplotlib to render its plots inline within the Jupyter notebook cells, immediately below the code cells that produce them.  \n",
    "For interactive plots within JupyterLab (e.g., for zooming and rotating 3D plots), you can use the ```%matplotlib widget``` magic instead.  \n",
    "```%matplotlib widget``` requires ```ipympl``` package, ```pip install --upgrade --no-cache-dir ipympl``` if it's missing.  "
   ]
  },
  {
   "cell_type": "code",
   "execution_count": null,
   "id": "7394db6d-b262-488d-8134-142b84abeda2",
   "metadata": {},
   "outputs": [],
   "source": []
  },
  {
   "cell_type": "code",
   "execution_count": null,
   "id": "bf0fbd9e-51f0-46a7-9942-79db44201fbf",
   "metadata": {},
   "outputs": [],
   "source": [
    "%matplotlib widget"
   ]
  },
  {
   "cell_type": "code",
   "execution_count": null,
   "id": "85904f2c-578d-49cd-9a37-1e6df5933f36",
   "metadata": {},
   "outputs": [],
   "source": [
    "# hack to make plotly plots show up in the notebook\n",
    "# pio.renderers.default = \"notebook\""
   ]
  },
  {
   "cell_type": "code",
   "execution_count": null,
   "id": "3a8d7a8c-bccf-4c57-a1a0-3ec29f068f26",
   "metadata": {},
   "outputs": [],
   "source": [
    "image = cv2.imread(\"./data/cgi/\" + \"01x25.png\")\n",
    "image_rgb = cv2.cvtColor(image, cv2.COLOR_BGR2RGB)\n",
    "image_rgb.shape\n",
    "img2 = image_rgb.reshape((-1, image_rgb.shape[2]))\n",
    "img2.shape"
   ]
  },
  {
   "cell_type": "markdown",
   "id": "55069710-afde-4d50-abe0-97f56677b9dd",
   "metadata": {},
   "source": [
    "* Look at the color conversion codes here: https://docs.opencv.org/4.9.0/de/d25/imgproc_color_conversions.html  \n",
    "* OpenCV Image transformation Enumerations: https://docs.opencv.org/3.4.0/d7/d1b/group__imgproc__misc.html"
   ]
  },
  {
   "cell_type": "code",
   "execution_count": null,
   "id": "af351711-58be-4ea2-b304-5e260e7f4ba6",
   "metadata": {},
   "outputs": [],
   "source": [
    "def convert_and_save(image_path, conversion_func, suffix, header):\n",
    "    \"\"\"\n",
    "    Convert image to specified color space and save to CSV.\n",
    "\n",
    "    Parameters:\n",
    "    - image_path: Path to the original image.\n",
    "    - conversion_func: Function to convert the image to the desired color space.\n",
    "    - suffix: Suffix for the output CSV file name indicating the color space.\n",
    "    - header: Header row for the CSV file.\n",
    "    \"\"\"\n",
    "    # Load the image\n",
    "    image = cv2.imread(image_path)\n",
    "    image_rgb = cv2.cvtColor(image, cv2.COLOR_BGR2RGB)\n",
    "\n",
    "    # Convert the image using the provided conversion function\n",
    "    converted_image = conversion_func(image_rgb)\n",
    "\n",
    "    # Flatten the image array to list pixels\n",
    "    pixels = converted_image.reshape((-1, converted_image.shape[2]))\n",
    "    # print('suffix: ', suffix, ' sample pixels: ', pixels[:3])\n",
    "\n",
    "    # Save to CSV\n",
    "    base_path = image_path.rsplit(\".\", 1)[0]\n",
    "    output_path = f\"{base_path}_{suffix}.csv\"\n",
    "\n",
    "    # Using NumPy to directly save to CSV\n",
    "    np.savetxt(\n",
    "        output_path,\n",
    "        pixels,\n",
    "        delimiter=\",\",\n",
    "        header=\",\".join(header),\n",
    "        comments=\"\",\n",
    "        encoding=\"utf-8\",\n",
    "    )"
   ]
  },
  {
   "cell_type": "code",
   "execution_count": null,
   "id": "e120d708-072d-48f6-8ceb-a35320b6faf6",
   "metadata": {},
   "outputs": [],
   "source": [
    "def image_to_color_spaces_parallel(image_path):\n",
    "    \"\"\"\n",
    "    Convert image to various color spaces using parallel processing.\n",
    "    \"\"\"\n",
    "\n",
    "    # Define conversion functions\n",
    "    def to_rgb(image_rgb):\n",
    "        return image_rgb\n",
    "\n",
    "    def to_xyz(image_rgb):\n",
    "        return cv2.cvtColor(image_rgb, cv2.COLOR_RGB2XYZ)\n",
    "\n",
    "    def to_lab(image_rgb):\n",
    "        return cv2.cvtColor(image_rgb, cv2.COLOR_RGB2Lab)\n",
    "\n",
    "    def to_hsv(image_rgb):\n",
    "        return cv2.cvtColor(image_rgb, cv2.COLOR_RGB2HSV)\n",
    "\n",
    "    # TODO: HSL no supported in skimage.color, build support using other libraries later\n",
    "    def to_hsl(image_rgb):\n",
    "        return cv2.cvtColor(image_rgb, cv2.COLOR_RGB2HLS)  # OpenCV uses HLS naming\n",
    "\n",
    "    # Conversion specifications (function, suffix, header)\n",
    "    conversions = [\n",
    "        (to_rgb, \"RGB\", [\"R\", \"G\", \"B\"]),\n",
    "        (to_xyz, \"XYZ\", [\"X\", \"Y\", \"Z\"]),\n",
    "        (to_lab, \"Lab\", [\"L*\", \"a*\", \"b*\"]),\n",
    "        (to_hsv, \"HSV\", [\"H\", \"S\", \"V\"]),\n",
    "        (to_hsl, \"HSL\", [\"H\", \"S\", \"L\"]),\n",
    "    ]\n",
    "    for func, suff, header in conversions:\n",
    "        convert_and_save(image_path, func, suff, header)\n",
    "\n",
    "    # # Use ThreadPoolExecutor to parallelize conversions\n",
    "    # with concurrent.futures.ThreadPoolExecutor() as executor:\n",
    "    # \tfutures = [executor.submit(convert_and_save, image_path, func, suffix, header)\n",
    "    # \t\tfor func, suffix, header in conversions]\n",
    "\n",
    "    # # Wait for all futures to complete\n",
    "    # concurrent.futures.wait(futures)"
   ]
  },
  {
   "cell_type": "code",
   "execution_count": null,
   "id": "09badac0-46cd-495b-92c0-fcee657a7474",
   "metadata": {},
   "outputs": [],
   "source": [
    "# Example usage\n",
    "images = [\"01x25.png\", \"02x25.png\", \"03x25.png\", \"04x25.png\", \"05x25.png\", \"06x25.png\"]\n",
    "for image in images:\n",
    "    print(\"pre-processing image: \", image)\n",
    "    image_path = \"./data/cgi/\" + image\n",
    "    image_to_color_spaces_parallel(image_path)"
   ]
  },
  {
   "cell_type": "code",
   "execution_count": null,
   "id": "f0040518-49ef-42f9-a96c-7573a9bb4fde",
   "metadata": {},
   "outputs": [],
   "source": [
    "# Do this for Eight-Down-Toofaan-Mail photographs as well\n",
    "images = ['001.png','002.png','003.png','004.png','005.png','006.png','007.png','008.png','009.png','010.png','011.png','012.png']\n",
    "for image in images:\n",
    "    print(\"pre-processing image: \", image)\n",
    "    image_path = \"./data/edtf/\" + image\n",
    "    image_to_color_spaces_parallel(image_path)"
   ]
  },
  {
   "cell_type": "code",
   "execution_count": null,
   "id": "71b822dd-52d8-4b58-a905-9bf49b817c5c",
   "metadata": {},
   "outputs": [],
   "source": [
    "# if you *HAD* to do it this way, otherwise just use markdown...or HTML\n",
    "# from IPython.display import Image as IPImage\n",
    "\n",
    "# def display_image(image_path):\n",
    "#     \"\"\"Display an image using IPython display.\"\"\"\n",
    "#     display(IPImage(filename=image_path))"
   ]
  },
  {
   "cell_type": "code",
   "execution_count": null,
   "id": "03c49931-c226-4f88-9604-91c6f0de8a44",
   "metadata": {},
   "outputs": [],
   "source": [
    "# blows up the size of the notebook\n",
    "# display_image(image_path)"
   ]
  },
  {
   "cell_type": "markdown",
   "id": "f861bfe9-fbcb-487f-b34f-fcee63533ac6",
   "metadata": {},
   "source": [
    "Use this code:\n",
    "```\n",
    "![Image Title](Image Path)\n",
    "```"
   ]
  },
  {
   "cell_type": "markdown",
   "id": "6c74409b-b3b3-46b5-8254-0b70ec080726",
   "metadata": {},
   "source": [
    "![sample image](./data/edtf/001.png)"
   ]
  },
  {
   "cell_type": "markdown",
   "id": "7ce1692f-ff00-4447-bd75-02790004a800",
   "metadata": {},
   "source": [
    "![sample image](./data/edtf/012.png)"
   ]
  },
  {
   "cell_type": "code",
   "execution_count": null,
   "id": "525bf71d-5d97-4949-b7f8-999a215eb70c",
   "metadata": {},
   "outputs": [],
   "source": [
    "def load_data_from_csv(file_path):\n",
    "    \"\"\"\n",
    "    Load color space data from a CSV file.\n",
    "\n",
    "    Parameters:\n",
    "    - file_path: Path to the CSV file.\n",
    "\n",
    "    Returns:\n",
    "    - Numpy array of the color space data.\n",
    "    \"\"\"\n",
    "    df = pd.read_csv(file_path)\n",
    "    return df.to_numpy()"
   ]
  },
  {
   "cell_type": "code",
   "execution_count": null,
   "id": "c228b7c4-875d-4046-b1fa-aa99c5866fa4",
   "metadata": {},
   "outputs": [],
   "source": [
    "def convert_to_rgb(data, color_space):\n",
    "    \"\"\"\n",
    "    Convert data from specified color space to RGB for visualization.\n",
    "\n",
    "    Parameters:\n",
    "    - data: Numpy array of the color space data.\n",
    "    - color_space: The color space of the input data ('XYZ', 'Lab', 'HSV', 'HSL').\n",
    "\n",
    "    Returns:\n",
    "    - Numpy array of the data converted to RGB.\n",
    "    \"\"\"\n",
    "    if color_space == \"XYZ\":\n",
    "        return (\n",
    "            (color.xyz2rgb(data.reshape(1, -1, 3)) * 255)\n",
    "            .reshape(-1, 3)\n",
    "            .astype(np.uint8)\n",
    "        )\n",
    "    elif color_space == \"Lab\":\n",
    "        return (\n",
    "            (color.lab2rgb(data.reshape(1, -1, 3)) * 255)\n",
    "            .reshape(-1, 3)\n",
    "            .astype(np.uint8)\n",
    "        )\n",
    "    elif color_space == \"HSV\":\n",
    "        return (\n",
    "            cv2.cvtColor(\n",
    "                data.reshape(1, -1, 3).astype(np.float32), cv2.COLOR_HSV2RGB\n",
    "            ).reshape(-1, 3)\n",
    "            * 255\n",
    "        )\n",
    "    elif color_space == \"HSL\":\n",
    "        return (\n",
    "            cv2.cvtColor(\n",
    "                data.reshape(1, -1, 3).astype(np.float32), cv2.COLOR_HLS2RGB\n",
    "            ).reshape(-1, 3)\n",
    "            * 255\n",
    "        )\n",
    "    else:\n",
    "        return data  # Assuming RGB or already in RGB"
   ]
  },
  {
   "cell_type": "code",
   "execution_count": null,
   "id": "52cd959a-3cae-48c3-a15f-30fa7aa316cc",
   "metadata": {},
   "outputs": [],
   "source": [
    "def normalize_colors_for_plotting(data, color_space=\"RGB\"):\n",
    "    \"\"\"\n",
    "    Normalize color values to [0, 1] for plotting, depending on the color space.\n",
    "\n",
    "    Parameters:\n",
    "    - data: The color data to be normalized.\n",
    "    - color_space: The color space of the data.\n",
    "\n",
    "    Returns:\n",
    "    - Normalized color data suitable for plotting.\n",
    "    \"\"\"\n",
    "    if color_space in [\"RGB\", \"HSV\", \"HSL\"]:  # These are typically already in [0, 1]\n",
    "        return data\n",
    "    elif color_space == \"XYZ\":\n",
    "        # Normalize XYZ based on typical ranges (may need adjustment based on actual data range)\n",
    "        data /= np.max(data, axis=0)\n",
    "    elif color_space == \"Lab\":\n",
    "        # Normalize L in [0, 100], a and b in approximately [-110, 110]\n",
    "        data = (data + [0, 110, 110]) / [100, 220, 220]\n",
    "    return data"
   ]
  },
  {
   "cell_type": "code",
   "execution_count": null,
   "id": "e99bd129-1978-4ad8-be60-ffb38fa37e56",
   "metadata": {},
   "outputs": [],
   "source": [
    "def plot_image_and_color_space(image_path, color_space=\"RGB\"):\n",
    "\n",
    "    # Plot the loaded image and its 3D point cloud in the specified color space.\n",
    "\n",
    "    # Parameters:\n",
    "    # - image_path: Path to the RGB image (.png format).\n",
    "    # - color_space: The color space for the 3D point cloud ('RGB', 'XYZ', 'Lab', 'HSV', 'HSL').\n",
    "\n",
    "    # Load and normalize the image\n",
    "    image_bgr = cv2.imread(image_path)\n",
    "    image_rgb = cv2.cvtColor(image_bgr, cv2.COLOR_BGR2RGB) / 255.0\n",
    "\n",
    "    # Convert the image to the specified color space\n",
    "    if color_space == \"RGB\":\n",
    "        data = image_rgb\n",
    "        axes_titles = [\"R\", \"G\", \"B\"]\n",
    "    elif color_space == \"XYZ\":\n",
    "        data = color.rgb2xyz(image_rgb)\n",
    "        axes_titles = [\"X\", \"Y\", \"Z\"]\n",
    "    elif color_space == \"Lab\":\n",
    "        data = color.rgb2lab(image_rgb)\n",
    "        axes_titles = [\"L\", \"a\", \"b\"]\n",
    "    elif color_space == \"HSV\":\n",
    "        data = color.rgb2hsv(image_rgb)\n",
    "        axes_titles = [\"H\", \"S\", \"V\"]\n",
    "    # HSL not supported yet...\n",
    "    elif color_space == \"HSL\":\n",
    "        raise ValueError(\"HSL not supported yet...\")\n",
    "    else:\n",
    "        raise ValueError(\"Unsupported color space\")\n",
    "\n",
    "    # Normalize color values for plotting\n",
    "    data_for_plotting = normalize_colors_for_plotting(data.reshape(-1, 3), color_space)\n",
    "\n",
    "    # Plot the image\n",
    "    plt.figure(figsize=(9, 5))\n",
    "\t\n",
    "    # Plot the 3D point cloud\n",
    "    # just rendering the 3d\n",
    "    ax = plt.subplot(1, 1, 1, projection=\"3d\")\n",
    "    ax.scatter(\n",
    "        data_for_plotting[:, 0],\n",
    "        data_for_plotting[:, 1],\n",
    "        data_for_plotting[:, 2],\n",
    "        c=data_for_plotting,\n",
    "        marker=\"o\",\n",
    "        s=0.001,\n",
    "    )\n",
    "    ax.set_title(f\"{color_space} Color Space\")\n",
    "    ax.set_xlabel(axes_titles[0])\n",
    "    ax.set_ylabel(axes_titles[1])\n",
    "    ax.set_zlabel(axes_titles[2])\n",
    "\n",
    "    plt.show()\n",
    "    # matplotlib.pyplot.close()"
   ]
  },
  {
   "cell_type": "code",
   "execution_count": null,
   "id": "b8c083a9-235b-4475-9cb7-17d1c6c372ce",
   "metadata": {},
   "outputs": [],
   "source": [
    "def plot_color_space_with_rgb_colors(base_path, color_space=\"RGB\"):\n",
    "\n",
    "    # Plot the 3D point cloud for pixel data in the specified color space, colored with original RGB values.\n",
    "\n",
    "    # usage:\n",
    "    # - base_path: The base path used for saving the CSV files, without the color space suffix and .csv.\n",
    "    # - color_space: The color space of the data to be plotted ('XYZ', 'Lab', 'HSV', 'HSL').\n",
    "\t\n",
    "    # Load Image (.png)\n",
    "    image_bgr = cv2.imread(base_path+'.png')\n",
    "    image_rgb = cv2.cvtColor(image_bgr, cv2.COLOR_BGR2RGB) / 255.0\n",
    "\n",
    "    # Load the color space data from CSV\n",
    "    color_space_data = pd.read_csv(f\"{base_path}_{color_space}.csv\").to_numpy()\n",
    "\n",
    "    # Load the corresponding RGB values from CSV\n",
    "    rgb_data = pd.read_csv(f\"{base_path}_RGB.csv\").to_numpy()\n",
    "\n",
    "    # Normalize RGB values to [0, 1] for matplotlib plotting\n",
    "    rgb_colors = rgb_data / 255.0\n",
    "\n",
    "    # supply axis labels\n",
    "    if color_space == \"RGB\":\n",
    "        axes_titles = [\"R\", \"G\", \"B\"]\n",
    "    elif color_space == \"XYZ\":\n",
    "        axes_titles = [\"X\", \"Y\", \"Z\"]\n",
    "    elif color_space == \"Lab\":\n",
    "        axes_titles = [\"L\", \"a\", \"b\"]\n",
    "    elif color_space == \"HSV\":\n",
    "        axes_titles = [\"H\", \"S\", \"V\"]\n",
    "    # HSL not supported yet...\n",
    "    elif color_space == \"HSL\":\n",
    "        raise ValueError(\"HSL not supported yet...\")\n",
    "    else:\n",
    "        raise ValueError(\"Unsupported color space\")\n",
    "\n",
    "    fig = plt.figure(figsize=(10, 5))\n",
    "    # plt.subplot needs (rows, columns, index of current plot)\n",
    "    plt.subplot(1, 2, 2)\n",
    "    plt.imshow(image_rgb)\n",
    "    plt.axis('off')\n",
    "    plt.title('Original Image')\n",
    "    \n",
    "    # Plot the 3D point cloud\n",
    "    ax = plt.subplot(1, 2, 1, projection=\"3d\")\n",
    "\n",
    "    ax.scatter(\n",
    "        color_space_data[:, 0],\n",
    "        color_space_data[:, 1],\n",
    "        color_space_data[:, 2],\n",
    "        c=rgb_colors,\n",
    "        marker=\"o\",\n",
    "        s=0.005,\n",
    "    )\n",
    "\n",
    "    ax.set_title(f\"{color_space} Color Space Point Cloud Colored by RGB\")\n",
    "    ax.set_xlabel(axes_titles[0])\n",
    "    ax.set_ylabel(axes_titles[1])\n",
    "    ax.set_zlabel(axes_titles[2])\n",
    "\n",
    "    plt.show()"
   ]
  },
  {
   "cell_type": "code",
   "execution_count": null,
   "id": "cf49628f-358e-4dc4-bf7e-720ee6abd666",
   "metadata": {},
   "outputs": [],
   "source": [
    "# base_path = \"./data/cgi/01x25\"  # Without the color space suffix and .csv\n",
    "# color_space = \"Lab\"  # Example color space\n",
    "# plot_color_space_with_rgb_colors(base_path, color_space)"
   ]
  },
  {
   "cell_type": "code",
   "execution_count": null,
   "id": "d4f2464c-05dc-4ad6-859b-9ddae9717236",
   "metadata": {},
   "outputs": [],
   "source": [
    "# plot_color_space_with_rgb_colors('./data/cgi/01x25', 'Lab')\n",
    "# plot_color_space_with_rgb_colors('./data/cgi/02x25', 'HSV')\n",
    "# plot_color_space_with_rgb_colors('./data/cgi/03x25', 'XYZ')\n",
    "# plot_color_space_with_rgb_colors('./data/cgi/04x25', 'Lab')\n",
    "# plot_color_space_with_rgb_colors('./data/cgi/05x25', 'HSV')\n",
    "# plot_color_space_with_rgb_colors('./data/cgi/06x25', 'XYZ')"
   ]
  },
  {
   "cell_type": "code",
   "execution_count": null,
   "id": "139887c3-1999-43de-ba27-9d1e524c259a",
   "metadata": {},
   "outputs": [],
   "source": [
    "plot_color_space_with_rgb_colors('./data/edtf/001', 'HSV')\n",
    "# plot_color_space_with_rgb_colors('./data/edtf/002', 'HSV')\n",
    "# plot_color_space_with_rgb_colors('./data/edtf/003', 'XYZ')\n",
    "# plot_color_space_with_rgb_colors('./data/edtf/004', 'Lab')\n",
    "# plot_color_space_with_rgb_colors('./data/edtf/005', 'HSV')\n",
    "# plot_color_space_with_rgb_colors('./data/edtf/006', 'XYZ')\n",
    "# plot_color_space_with_rgb_colors('./data/edtf/007', 'Lab')\n",
    "# plot_color_space_with_rgb_colors('./data/edtf/008', 'HSV')\n",
    "# plot_color_space_with_rgb_colors('./data/edtf/009', 'XYZ')\n",
    "# plot_color_space_with_rgb_colors('./data/edtf/010', 'Lab')\n",
    "# plot_color_space_with_rgb_colors('./data/edtf/011', 'Lab')\n",
    "# plot_color_space_with_rgb_colors('./data/edtf/012', 'Lab')"
   ]
  },
  {
   "cell_type": "code",
   "execution_count": null,
   "id": "007d23ef-5a16-4c83-bb54-6cb047fe10d6",
   "metadata": {},
   "outputs": [],
   "source": [
    "# plot_color_space_with_rgb_colors('./data/edtf/001', 'HSV')\n",
    "# plot_color_space_with_rgb_colors('./data/edtf/002', 'HSV')\n",
    "# plot_color_space_with_rgb_colors('./data/edtf/003', 'XYZ')\n",
    "# plot_color_space_with_rgb_colors('./data/edtf/004', 'Lab')\n",
    "# plot_color_space_with_rgb_colors('./data/edtf/005', 'HSV')\n",
    "# plot_color_space_with_rgb_colors('./data/edtf/006', 'XYZ')\n",
    "# plot_color_space_with_rgb_colors('./data/edtf/007', 'Lab')\n",
    "# plot_color_space_with_rgb_colors('./data/edtf/008', 'HSV')\n",
    "# plot_color_space_with_rgb_colors('./data/edtf/009', 'XYZ')\n",
    "# plot_color_space_with_rgb_colors('./data/edtf/010', 'Lab')\n",
    "plot_color_space_with_rgb_colors('./data/edtf/011', 'HSV')\n",
    "# plot_color_space_with_rgb_colors('./data/edtf/012', 'RGB')"
   ]
  },
  {
   "cell_type": "code",
   "execution_count": null,
   "id": "0aa99662-5d7f-45cb-87fe-62ee4accb6d4",
   "metadata": {},
   "outputs": [],
   "source": [
    "# plot_color_space_with_rgb_colors('./data/edtf/001', 'HSV')\n",
    "# plot_color_space_with_rgb_colors('./data/edtf/002', 'HSV')\n",
    "# plot_color_space_with_rgb_colors('./data/edtf/003', 'XYZ')\n",
    "# plot_color_space_with_rgb_colors('./data/edtf/004', 'Lab')\n",
    "# plot_color_space_with_rgb_colors('./data/edtf/005', 'HSV')\n",
    "# plot_color_space_with_rgb_colors('./data/edtf/006', 'XYZ')\n",
    "# plot_color_space_with_rgb_colors('./data/edtf/007', 'Lab')\n",
    "# plot_color_space_with_rgb_colors('./data/edtf/008', 'HSV')\n",
    "# plot_color_space_with_rgb_colors('./data/edtf/009', 'XYZ')\n",
    "# plot_color_space_with_rgb_colors('./data/edtf/010', 'Lab')\n",
    "# plot_color_space_with_rgb_colors('./data/edtf/011', 'Lab')\n",
    "plot_color_space_with_rgb_colors('./data/edtf/012', 'Lab')"
   ]
  },
  {
   "cell_type": "code",
   "execution_count": null,
   "id": "be23de23-c4e9-4f27-ae62-4724a8b36816",
   "metadata": {},
   "outputs": [],
   "source": [
    "# plot_color_space_with_rgb_colors('./data/edtf/001', 'HSV')\n",
    "plot_color_space_with_rgb_colors('./data/edtf/002', 'HSV')\n",
    "# plot_color_space_with_rgb_colors('./data/edtf/003', 'XYZ')\n",
    "# plot_color_space_with_rgb_colors('./data/edtf/004', 'Lab')\n",
    "# plot_color_space_with_rgb_colors('./data/edtf/005', 'HSV')\n",
    "# plot_color_space_with_rgb_colors('./data/edtf/006', 'XYZ')\n",
    "# plot_color_space_with_rgb_colors('./data/edtf/007', 'Lab')\n",
    "# plot_color_space_with_rgb_colors('./data/edtf/008', 'HSV')\n",
    "# plot_color_space_with_rgb_colors('./data/edtf/009', 'XYZ')\n",
    "# plot_color_space_with_rgb_colors('./data/edtf/010', 'Lab')\n",
    "# plot_color_space_with_rgb_colors('./data/edtf/011', 'Lab')\n",
    "# plot_color_space_with_rgb_colors('./data/edtf/012', 'Lab')"
   ]
  },
  {
   "cell_type": "code",
   "execution_count": null,
   "id": "df4e53f4-12c1-4b54-8b4e-38739897449d",
   "metadata": {},
   "outputs": [],
   "source": [
    "# plot_color_space_with_rgb_colors('./data/edtf/001', 'HSV')\n",
    "# plot_color_space_with_rgb_colors('./data/edtf/002', 'HSV')\n",
    "plot_color_space_with_rgb_colors('./data/edtf/003', 'XYZ')\n",
    "# plot_color_space_with_rgb_colors('./data/edtf/004', 'Lab')\n",
    "# plot_color_space_with_rgb_colors('./data/edtf/005', 'HSV')\n",
    "# plot_color_space_with_rgb_colors('./data/edtf/006', 'XYZ')\n",
    "# plot_color_space_with_rgb_colors('./data/edtf/007', 'Lab')\n",
    "# plot_color_space_with_rgb_colors('./data/edtf/008', 'HSV')\n",
    "# plot_color_space_with_rgb_colors('./data/edtf/009', 'XYZ')\n",
    "# plot_color_space_with_rgb_colors('./data/edtf/010', 'Lab')\n",
    "# plot_color_space_with_rgb_colors('./data/edtf/011', 'Lab')\n",
    "# plot_color_space_with_rgb_colors('./data/edtf/012', 'Lab')"
   ]
  },
  {
   "cell_type": "code",
   "execution_count": null,
   "id": "3c70ea9c-2948-424c-823b-b1d2cda279a8",
   "metadata": {},
   "outputs": [],
   "source": [
    "# Calculates the Cartesian (Euclidean) distance between two points.\n",
    "def cartesian_distance(point1, point2):\n",
    "    diff = point1 - point2  \n",
    "    squared_diff = diff ** 2\n",
    "    return jnp.sqrt(jnp.sum(squared_diff))"
   ]
  },
  {
   "cell_type": "code",
   "execution_count": null,
   "id": "fab3dab9-9a2d-44e0-a06a-9d2713b8d0f7",
   "metadata": {},
   "outputs": [],
   "source": [
    "# Calculates the Manhattan distance between two points.\n",
    "def manhattan_distance(point1, point2):\n",
    "    return jnp.sum(jnp.abs(point1 - point2)) "
   ]
  },
  {
   "cell_type": "code",
   "execution_count": null,
   "id": "6ee08b6f-7bea-4e73-be4f-ac9b280a5df8",
   "metadata": {},
   "outputs": [],
   "source": [
    "# Compute the Euclidean distance between two sets of points.\n",
    "# same as cartesian distance\n",
    "def euclidean_distance(x, y):\n",
    "    # return jnp.sqrt(jnp.sum((x[:, None, :] - y[None, :, :]) ** 2, axis=-1))\n",
    "\treturn cartesian_distance(x,y)"
   ]
  },
  {
   "cell_type": "code",
   "execution_count": null,
   "id": "f7b0f8b5-80fe-4918-ac05-1af918de9f84",
   "metadata": {},
   "outputs": [],
   "source": [
    "# Randomly select k centroids from the data.\n",
    "def initialize_centroids(data, k, seed=0):\n",
    "    rng = random.PRNGKey(seed)\n",
    "    indices = random.choice(rng, jnp.arange(data.shape[0]), shape=(k,), replace=False)\n",
    "    return data[indices]"
   ]
  },
  {
   "cell_type": "code",
   "execution_count": null,
   "id": "81b48ad2-9f07-4143-b577-f5adeb8c8d3a",
   "metadata": {},
   "outputs": [],
   "source": [
    "# Assign data points to the nearest centroid.\n",
    "@jit\n",
    "def assign_clusters(data, centroids,distance_fn):\n",
    "    distances = distance_fn(data, centroids)\n",
    "    # distances = euclidean_distance(data, centroids)\n",
    "    return jnp.argmin(distances, axis=1)"
   ]
  },
  {
   "cell_type": "code",
   "execution_count": null,
   "id": "83a2970f-4ead-4b48-8db3-ff4022efdc8a",
   "metadata": {},
   "outputs": [],
   "source": [
    "def update_centroids(data, labels, k):\n",
    "    \"\"\"Update centroids as the mean of assigned data points.\"\"\"\n",
    "    return jnp.array([data[labels == i].mean(axis=0) for i in range(k)])"
   ]
  },
  {
   "cell_type": "code",
   "execution_count": null,
   "id": "7e7dee00-d41f-4380-80d6-a3b0e14cbba7",
   "metadata": {},
   "outputs": [],
   "source": [
    "def kmeans1(data, k, distance_fn=euclidean_distance, max_iters=100, tol=1e-4, save_to_csv=False, csv_path=None):\n",
    "    centroids = initialize_centroids(data, k)\n",
    "    for i in range(max_iters):\n",
    "        old_centroids = centroids\n",
    "        labels = assign_clusters(data, centroids, distance_fn)\n",
    "        # labels = assign_clusters(data, centroids)\n",
    "        centroids = update_centroids(data, labels, k)\n",
    "        \n",
    "        # Convergence check\n",
    "        if jnp.max(jnp.linalg.norm(centroids - old_centroids, axis=1)) < tol:\n",
    "            break\n",
    "        \n",
    "        if save_to_csv and csv_path:\n",
    "            save_iteration_csv(centroids, labels, i, csv_path)\n",
    "    \n",
    "    return centroids, labels"
   ]
  },
  {
   "cell_type": "code",
   "execution_count": null,
   "id": "e683851b-da6b-4690-987f-43ff463bb40d",
   "metadata": {},
   "outputs": [],
   "source": [
    "def save_iteration_csv(centroids, labels, iteration, base_csv_path):\n",
    "    \"\"\"Save the centroids and their associations to a CSV file.\"\"\"\n",
    "    centroids_np = np.array(centroids)\n",
    "    labels_np = np.array(labels)\n",
    "    with open(f\"{base_csv_path}_iteration_{iteration}.csv\", \"w\", newline=\"\") as csvfile:\n",
    "        writer = csv.writer(csvfile)\n",
    "        writer.writerow([\"Centroid\", \"X\", \"Y\", \"Z\"])\n",
    "        for i, centroid in enumerate(centroids_np):\n",
    "            points_in_cluster = np.sum(labels_np == i)\n",
    "            writer.writerow([i, centroid[0], centroid[1], centroid[2], points_in_cluster])"
   ]
  },
  {
   "cell_type": "code",
   "execution_count": null,
   "id": "ff124aff-267a-4a06-8df6-0f92a67668fa",
   "metadata": {},
   "outputs": [],
   "source": [
    "data = np.random.rand(1000, 3)\n",
    "data_jax = jnp.array(data)\n",
    "centroids, labels = kmeans1(data_jax, k=3, max_iters=10, save_to_csv=True, csv_path=\"kmeans_output\")\n",
    "print(\"Centroids:\", centroids)"
   ]
  },
  {
   "cell_type": "code",
   "execution_count": null,
   "id": "0137836d-0dfd-45d2-90dd-bc138f92e756",
   "metadata": {},
   "outputs": [],
   "source": [
    "from jax import random\n",
    "import jax.numpy as jnp\n",
    "\n",
    "def kmeans_jax(data, k, num_iters=10):\n",
    "    rng = random.PRNGKey(0)\n",
    "    n, d = data.shape\n",
    "    centroids = data[random.choice(rng, jnp.arange(n), shape=(k,), replace=False)]\n",
    "\n",
    "    for i in range(num_iters):\n",
    "        # Assign clusters\n",
    "        distances = jnp.sqrt(jnp.sum((data[:, None, :] - centroids[None, :, :]) ** 2, axis=2))\n",
    "        closest_centroids = jnp.argmin(distances, axis=1)\n",
    "\n",
    "        # Update centroids\n",
    "        centroids = jnp.array([data[closest_centroids == c].mean(axis=0) for c in range(k)])\n",
    "\n",
    "    return centroids, closest_centroids"
   ]
  },
  {
   "cell_type": "code",
   "execution_count": null,
   "id": "2ca65d29-ae9a-4bda-abda-d32acca41117",
   "metadata": {},
   "outputs": [],
   "source": [
    "import cv2\n",
    "import numpy as np\n",
    "\n",
    "# Load image\n",
    "image_path = './data/edtf/012.png'\n",
    "image_bgr = cv2.imread(image_path)\n",
    "image_rgb = cv2.cvtColor(image_bgr, cv2.COLOR_BGR2RGB)\n",
    "\n",
    "# Load the data from CSV files\n",
    "data_csv_path = './data/edtf/001_Lab.csv'\n",
    "# data = pd.read_csv(data_csv_path).to_numpy()\n",
    "# pixels = pd.read_csv(data_csv_path).to_numpy()\n",
    "# Normalize and reshape the image data to fit K-Means input\n",
    "pixels = image_rgb.reshape(-1, 3) / 255.0  # Normalize to [0, 1]"
   ]
  },
  {
   "cell_type": "code",
   "execution_count": null,
   "id": "2e919288-3085-45f1-9503-a93781bfd0d9",
   "metadata": {},
   "outputs": [],
   "source": [
    "pixels.shape"
   ]
  },
  {
   "cell_type": "code",
   "execution_count": null,
   "id": "6784c3d5-31b0-439f-9246-0fa46e43c888",
   "metadata": {},
   "outputs": [],
   "source": [
    "# grab a random set of pixels, see what it looks like\n",
    "pixels[5000:5010]"
   ]
  },
  {
   "cell_type": "code",
   "execution_count": null,
   "id": "9771a922-a90b-4086-8198-436973a206b2",
   "metadata": {},
   "outputs": [],
   "source": [
    "data_jax = jnp.array(pixels)  # Convert NumPy array to JAX array"
   ]
  },
  {
   "cell_type": "code",
   "execution_count": null,
   "id": "da1ed3db-3845-42a6-aa42-4567263c0e2d",
   "metadata": {},
   "outputs": [],
   "source": [
    "k = 2  # Number of clusters"
   ]
  },
  {
   "cell_type": "code",
   "execution_count": null,
   "id": "8ae8a94b-2e39-416d-a4ff-d233d8d55569",
   "metadata": {},
   "outputs": [],
   "source": [
    "centroids, labels = kmeans_jax(data_jax, k, num_iters=10)"
   ]
  },
  {
   "cell_type": "code",
   "execution_count": null,
   "id": "6c62f7d9-fefb-429d-8a0e-5e8a2d147992",
   "metadata": {},
   "outputs": [],
   "source": [
    "from skimage import color\n",
    "def convert_to_rgb2(data, space):\n",
    "\tdata = pd.DataFrame(data).to_numpy()\n",
    "\tprint('convert_to_rgb2: data:', data)\n",
    "\t# Convert the image to the specified color space\n",
    "\tif space == \"RGB\":\n",
    "\t\tdata = data\n",
    "\t\t# data = data.astype(np.uint8)\n",
    "\t\taxes_titles = [\"R\", \"G\", \"B\"]\n",
    "\telif space == \"XYZ\":\n",
    "\t\tdata = color.xyz2rgb(data)\n",
    "\t\taxes_titles = [\"X\", \"Y\", \"Z\"]\n",
    "\telif space == \"Lab\":\n",
    "\t\tdata = color.lab2rgb(data,illuminant='D60')\n",
    "\t\taxes_titles = [\"L\", \"a\", \"b\"]\n",
    "\telif space == \"HSV\":\n",
    "\t\tdata = color.hsv2rgb(data)\n",
    "\t\t# data = cv2.cvtColor(data, cv2.COLOR_HSV2RGB)\n",
    "\t\taxes_titles = [\"H\", \"S\", \"V\"]\n",
    "\t# HSL not supported yet...\n",
    "\telif space == \"HSL\":\n",
    "\t\traise ValueError(\"HSL not supported yet...\")\n",
    "\telse:\n",
    "\t\traise ValueError(\"Unsupported color space\")\n",
    "\treturn (data.astype(np.uint16))/255.0"
   ]
  },
  {
   "cell_type": "code",
   "execution_count": null,
   "id": "ccb39a6a-2dbc-403b-bfa0-9275c6720ac1",
   "metadata": {},
   "outputs": [],
   "source": [
    "centroids_rgb = convert_to_rgb2(centroids,'HSV')"
   ]
  },
  {
   "cell_type": "code",
   "execution_count": null,
   "id": "352cd2fe-a7d7-41f3-bcd3-fe5b60335f82",
   "metadata": {},
   "outputs": [],
   "source": [
    "print('centroids: ', centroids)\n",
    "print('centroids_rgb: ', centroids_rgb)\n",
    "print('labels: ', labels)"
   ]
  },
  {
   "cell_type": "code",
   "execution_count": null,
   "id": "be6ee9e3-87c1-4172-9eba-8ef72db49727",
   "metadata": {},
   "outputs": [],
   "source": [
    "# Map each pixel to its centroid color\n",
    "# segmented_image = jnp.array([centroids[label] for label in labels])"
   ]
  },
  {
   "cell_type": "code",
   "execution_count": null,
   "id": "03e8b160-d5f0-4d76-814b-c52ab30fb65c",
   "metadata": {},
   "outputs": [],
   "source": [
    "segmented_image = centroids[labels].reshape(image_rgb.shape)\n",
    "# segmented_image = centroids_rgb[labels].reshape(image_rgb.shape)"
   ]
  },
  {
   "cell_type": "code",
   "execution_count": null,
   "id": "9a2dbea0-f7eb-4879-be66-ef5969a6227b",
   "metadata": {},
   "outputs": [],
   "source": [
    "# Reshape back to the original image shape\n",
    "# segmented_image = segmented_image.reshape(image_rgb.shape)"
   ]
  },
  {
   "cell_type": "code",
   "execution_count": null,
   "id": "ecde0046-2250-458e-971a-07b7564d9911",
   "metadata": {},
   "outputs": [],
   "source": [
    "# Display the result\n",
    "import matplotlib.pyplot as plt\n",
    "\n",
    "fig2 = plt.figure(figsize=(10, 5))\n",
    "plt.imshow(segmented_image)\n",
    "plt.axis('off')  # Hide axes\n",
    "plt.show()"
   ]
  },
  {
   "cell_type": "code",
   "execution_count": null,
   "id": "6abae585-28d0-4ca9-9807-e9dde4ea2cf5",
   "metadata": {},
   "outputs": [],
   "source": []
  },
  {
   "cell_type": "code",
   "execution_count": null,
   "id": "dc6263cb-eef2-48b5-80a1-b677c39aabe1",
   "metadata": {},
   "outputs": [],
   "source": []
  },
  {
   "cell_type": "code",
   "execution_count": null,
   "id": "ea0ad14e-fb26-460c-91c2-3f34e46d9a81",
   "metadata": {},
   "outputs": [],
   "source": []
  },
  {
   "cell_type": "code",
   "execution_count": null,
   "id": "1d56bbb0-fbcd-4ad8-9c4e-4f37bc5370a7",
   "metadata": {},
   "outputs": [],
   "source": []
  },
  {
   "cell_type": "code",
   "execution_count": null,
   "id": "60e34c0d-e504-4510-bd57-28f509a44438",
   "metadata": {},
   "outputs": [],
   "source": []
  },
  {
   "cell_type": "code",
   "execution_count": null,
   "id": "91e89533-4863-4efd-ae66-90899cc3a904",
   "metadata": {},
   "outputs": [],
   "source": []
  },
  {
   "cell_type": "code",
   "execution_count": null,
   "id": "8dee698d-8116-4ecd-8c3c-fb729c3a8cc8",
   "metadata": {},
   "outputs": [],
   "source": []
  },
  {
   "cell_type": "code",
   "execution_count": null,
   "id": "bb0463e9-0920-4987-a7dd-034aea8fac60",
   "metadata": {},
   "outputs": [],
   "source": []
  }
 ],
 "metadata": {
  "kernelspec": {
   "display_name": "Python 3 (ipykernel)",
   "language": "python",
   "name": "python3"
  },
  "language_info": {
   "codemirror_mode": {
    "name": "ipython",
    "version": 3
   },
   "file_extension": ".py",
   "mimetype": "text/x-python",
   "name": "python",
   "nbconvert_exporter": "python",
   "pygments_lexer": "ipython3",
   "version": "3.11.4"
  }
 },
 "nbformat": 4,
 "nbformat_minor": 5
}
